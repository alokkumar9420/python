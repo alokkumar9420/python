{
 "cells": [
  {
   "cell_type": "markdown",
   "id": "c203245e-96a9-4ef8-ace0-34fbd32f4ca0",
   "metadata": {},
   "source": [
    "#How do you comment code in Python? What are the different types of comments?\n"
   ]
  },
  {
   "cell_type": "code",
   "execution_count": 16,
   "id": "742b8722-ed5a-4cf7-bd5e-704a6c802719",
   "metadata": {},
   "outputs": [],
   "source": [
    "#To use comment in python as a \n",
    "#there are a two types of comment \n",
    "#1.#(single comment)\n",
    "#2.(multiple comment) \"\"\"  \"\"\""
   ]
  },
  {
   "cell_type": "markdown",
   "id": "6209fbf1-3130-4e8c-9d04-8e5e27575646",
   "metadata": {},
   "source": [
    "What are variables in Python? How do you declare and assign values to variables?"
   ]
  },
  {
   "cell_type": "code",
   "execution_count": 19,
   "id": "89cfdba3-8352-4da7-a09b-924a60cfa910",
   "metadata": {},
   "outputs": [],
   "source": [
    "#In Python, a variable is a named container that stores a value. To assign a value to a variable, you use the assignment operato\n",
    "# a=5"
   ]
  },
  {
   "cell_type": "markdown",
   "id": "2431c707-dcd3-4989-a606-c723ab6ec5ce",
   "metadata": {},
   "source": [
    "How do you convert one data type to another in Python?"
   ]
  },
  {
   "cell_type": "code",
   "execution_count": 22,
   "id": "3e1215bd-c146-4104-9926-7e87b231bc70",
   "metadata": {},
   "outputs": [],
   "source": [
    "#In Python, you can convert one data type to another using type conversion functions. \n",
    "#These functions include int(), float(), str(), and list()"
   ]
  },
  {
   "cell_type": "markdown",
   "id": "5e351302-bbfc-465c-b287-f2c4237a3b8b",
   "metadata": {},
   "source": [
    "Given a list my_list = [1, 2, 3, 4, 5], write the code to slice the list and obtain the sub-list [2, 3]."
   ]
  },
  {
   "cell_type": "code",
   "execution_count": 25,
   "id": "76178749-3cd4-4819-99fb-ab3444b412ec",
   "metadata": {},
   "outputs": [],
   "source": [
    "my_list=[1,2,3,4,5]"
   ]
  },
  {
   "cell_type": "code",
   "execution_count": 31,
   "id": "a2f3fc36-3e7f-4b3c-8e31-259aaff799c4",
   "metadata": {},
   "outputs": [
    {
     "data": {
      "text/plain": [
       "[2, 3]"
      ]
     },
     "execution_count": 31,
     "metadata": {},
     "output_type": "execute_result"
    }
   ],
   "source": [
    "my_list[1:3:1]"
   ]
  },
  {
   "cell_type": "markdown",
   "id": "a74f6e06-302b-4f49-a5c5-3fb8f5c84e6c",
   "metadata": {},
   "source": [
    "What is a complex number in mathematics, and how is it represented in Python?"
   ]
  },
  {
   "cell_type": "code",
   "execution_count": 34,
   "id": "c16febe2-c44b-4cf3-b481-ee9f8c09d8ca",
   "metadata": {},
   "outputs": [],
   "source": [
    "a=5+6j"
   ]
  },
  {
   "cell_type": "code",
   "execution_count": 36,
   "id": "ed7729f2-2366-41b3-9cdb-67adaffcddc9",
   "metadata": {},
   "outputs": [
    {
     "data": {
      "text/plain": [
       "5.0"
      ]
     },
     "execution_count": 36,
     "metadata": {},
     "output_type": "execute_result"
    }
   ],
   "source": [
    "a.real"
   ]
  },
  {
   "cell_type": "code",
   "execution_count": 40,
   "id": "9ddf8484-1065-4731-87f9-9f2b24ac7b1b",
   "metadata": {},
   "outputs": [
    {
     "data": {
      "text/plain": [
       "6.0"
      ]
     },
     "execution_count": 40,
     "metadata": {},
     "output_type": "execute_result"
    }
   ],
   "source": [
    "a.imag"
   ]
  },
  {
   "cell_type": "markdown",
   "id": "4fa48053-a143-438d-bfc9-7077ccbb5c60",
   "metadata": {},
   "source": [
    "What is the correct way to declare a variable named age and assign the value 25 to it?"
   ]
  },
  {
   "cell_type": "code",
   "execution_count": 43,
   "id": "21909f27-7416-418b-afed-8e5bf46967f7",
   "metadata": {},
   "outputs": [],
   "source": [
    "age=25"
   ]
  },
  {
   "cell_type": "code",
   "execution_count": 45,
   "id": "3ed7d5ad-7f39-41ac-9796-43995db474cd",
   "metadata": {},
   "outputs": [
    {
     "data": {
      "text/plain": [
       "25"
      ]
     },
     "execution_count": 45,
     "metadata": {},
     "output_type": "execute_result"
    }
   ],
   "source": [
    "age"
   ]
  },
  {
   "cell_type": "markdown",
   "id": "59ff8047-d8c9-4529-aa41-01ded7591c03",
   "metadata": {},
   "source": [
    "Declare a variable named price and assign the value 9.99 to it. What data type does this variable\r\n",
    "belong to?"
   ]
  },
  {
   "cell_type": "code",
   "execution_count": 48,
   "id": "cf7a2eec-dc29-4ba9-b559-8e3caadf4464",
   "metadata": {},
   "outputs": [],
   "source": [
    "price=9.99"
   ]
  },
  {
   "cell_type": "code",
   "execution_count": 50,
   "id": "6f62ea21-1de7-46d2-97e0-5956e518651c",
   "metadata": {},
   "outputs": [
    {
     "data": {
      "text/plain": [
       "float"
      ]
     },
     "execution_count": 50,
     "metadata": {},
     "output_type": "execute_result"
    }
   ],
   "source": [
    "type(price)"
   ]
  },
  {
   "cell_type": "markdown",
   "id": "4a41728c-57d4-4e2e-aba4-40ed42593e64",
   "metadata": {},
   "source": [
    "Create a variable named name and assign your full name to it as a string. How would you print the\r\n",
    "value of this variable?"
   ]
  },
  {
   "cell_type": "code",
   "execution_count": 53,
   "id": "27082d27-285f-4064-9f6b-69f7eda9efb1",
   "metadata": {},
   "outputs": [],
   "source": [
    "s=\"alok_kumar\""
   ]
  },
  {
   "cell_type": "code",
   "execution_count": 55,
   "id": "139ebc2d-0185-45c5-b571-1438235e1143",
   "metadata": {},
   "outputs": [
    {
     "data": {
      "text/plain": [
       "'alok_kumar'"
      ]
     },
     "execution_count": 55,
     "metadata": {},
     "output_type": "execute_result"
    }
   ],
   "source": [
    "s"
   ]
  },
  {
   "cell_type": "markdown",
   "id": "e153281e-d50a-4145-8196-393dd4f29c1e",
   "metadata": {},
   "source": [
    "Given the string \"Hello, World!\", extract the substring \"World\"."
   ]
  },
  {
   "cell_type": "code",
   "execution_count": 59,
   "id": "f3af5a39-649a-4042-ae9f-6bd8f1f6c075",
   "metadata": {},
   "outputs": [],
   "source": [
    "string=\"Hello,World!\""
   ]
  },
  {
   "cell_type": "code",
   "execution_count": 67,
   "id": "85c8bf73-605a-4fa6-a625-7d5f2657c3ef",
   "metadata": {},
   "outputs": [
    {
     "data": {
      "text/plain": [
       "'World'"
      ]
     },
     "execution_count": 67,
     "metadata": {},
     "output_type": "execute_result"
    }
   ],
   "source": [
    "string[6:11:1]"
   ]
  },
  {
   "cell_type": "markdown",
   "id": "4942d8a8-3f84-42df-ba40-9c89c4f69c22",
   "metadata": {},
   "source": [
    "Create a variable named \"is_student\" and assign it a boolean value indicating whether you are\r\n",
    "currently a student or not."
   ]
  },
  {
   "cell_type": "code",
   "execution_count": 70,
   "id": "0de7d1f5-3235-4d36-90d5-3912b528cb16",
   "metadata": {},
   "outputs": [],
   "source": [
    "is_student=True"
   ]
  },
  {
   "cell_type": "code",
   "execution_count": 72,
   "id": "bb10db28-a39d-4598-a5a7-6b5b1df17420",
   "metadata": {},
   "outputs": [
    {
     "data": {
      "text/plain": [
       "True"
      ]
     },
     "execution_count": 72,
     "metadata": {},
     "output_type": "execute_result"
    }
   ],
   "source": [
    "is_student"
   ]
  },
  {
   "cell_type": "code",
   "execution_count": null,
   "id": "2850d775-07d2-47cc-a1b9-9b685fe636ca",
   "metadata": {},
   "outputs": [],
   "source": []
  }
 ],
 "metadata": {
  "kernelspec": {
   "display_name": "Python 3 (ipykernel)",
   "language": "python",
   "name": "python3"
  },
  "language_info": {
   "codemirror_mode": {
    "name": "ipython",
    "version": 3
   },
   "file_extension": ".py",
   "mimetype": "text/x-python",
   "name": "python",
   "nbconvert_exporter": "python",
   "pygments_lexer": "ipython3",
   "version": "3.12.4"
  }
 },
 "nbformat": 4,
 "nbformat_minor": 5
}
