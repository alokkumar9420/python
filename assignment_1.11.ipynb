{
 "cells": [
  {
   "cell_type": "markdown",
   "id": "85941582-8436-411e-b7ff-0b3ca7215686",
   "metadata": {},
   "source": [
    "Declare a variable named days_in_week and assign it the number of days in a week. Print the variable."
   ]
  },
  {
   "cell_type": "code",
   "execution_count": 3,
   "id": "7fc7fd73-abed-457b-92c8-8a6f5d9c7d6e",
   "metadata": {},
   "outputs": [],
   "source": [
    "days_in_week=7"
   ]
  },
  {
   "cell_type": "markdown",
   "id": "3405b57d-5a60-4b9d-8625-deb615488c5f",
   "metadata": {},
   "source": [
    "Given two variables a = 15 and b = 4, calculate and print their sum, difference, product, and quotient."
   ]
  },
  {
   "cell_type": "markdown",
   "id": "eb57b0c7-923a-4d24-850c-5d93cd6d7cd6",
   "metadata": {},
   "source": [
    "a=15\n",
    "b=4\n",
    "sum=a+b\n",
    "sub=a-b\n",
    "product=a*b\n",
    "quotient=a//b\n",
    "print(sum)\n",
    "print(sub)\n",
    "print(product)\n",
    "print(quotient)"
   ]
  },
  {
   "cell_type": "markdown",
   "id": "bdce1bf4-e5c2-4fc8-9d3a-37efc9344d6d",
   "metadata": {},
   "source": [
    "Convert the string \"123\" to an integer and assign it to a variable named number. Print the type of number to confirm the conversion."
   ]
  },
  {
   "cell_type": "code",
   "execution_count": 13,
   "id": "7fa02e10-a334-42a8-bdef-76a55705bb10",
   "metadata": {},
   "outputs": [],
   "source": [
    "number=\"123\""
   ]
  },
  {
   "cell_type": "code",
   "execution_count": 15,
   "id": "79b83f36-81fa-4c37-a2a8-2d91258e3e39",
   "metadata": {},
   "outputs": [
    {
     "data": {
      "text/plain": [
       "123"
      ]
     },
     "execution_count": 15,
     "metadata": {},
     "output_type": "execute_result"
    }
   ],
   "source": [
    "int(number)"
   ]
  },
  {
   "cell_type": "markdown",
   "id": "e2884aff-bbf7-4cf1-a0b5-45819286e6d4",
   "metadata": {},
   "source": [
    "Concatenate the following two strings: first_name and last_name into a full name and print the result. Assume the variables have already been defined."
   ]
  },
  {
   "cell_type": "code",
   "execution_count": 28,
   "id": "beb63c0f-8534-4381-8a49-bd3d9c3920b0",
   "metadata": {},
   "outputs": [],
   "source": [
    "first_name=\"alok\"\n",
    "last_name=\"kumar\"\n",
    "\n"
   ]
  },
  {
   "cell_type": "code",
   "execution_count": 32,
   "id": "acdf12e4-4328-44cb-9d88-6f1a6b1fed5a",
   "metadata": {},
   "outputs": [],
   "source": [
    "name=first_name + \" \"+ last_name"
   ]
  },
  {
   "cell_type": "code",
   "execution_count": 34,
   "id": "054f3b25-688c-43eb-a42d-da27e2fb0bef",
   "metadata": {},
   "outputs": [
    {
     "name": "stdout",
     "output_type": "stream",
     "text": [
      "alok kumar\n"
     ]
    }
   ],
   "source": [
    "print(name)"
   ]
  },
  {
   "cell_type": "markdown",
   "id": "9124e08b-95c1-4e80-80b8-b5efd0270a7c",
   "metadata": {},
   "source": [
    "Start with the variable score = 0. Add 5 to score, then multiply score by 3, and subtract 2. Print the final score."
   ]
  },
  {
   "cell_type": "code",
   "execution_count": 39,
   "id": "0e911e62-9176-4407-a23f-f37a3bb2c2b3",
   "metadata": {},
   "outputs": [
    {
     "name": "stdout",
     "output_type": "stream",
     "text": [
      "7.5\n"
     ]
    }
   ],
   "source": [
    "score=0\n",
    "score=(5*3/2)\n",
    "print(score)\n"
   ]
  },
  {
   "cell_type": "markdown",
   "id": "972098cc-867d-47a6-95f6-81f84a15c25f",
   "metadata": {},
   "source": [
    "Create a boolean variable is_sunny to represent if the weather is sunny or not. Set it to True if it is sunny and False otherwise. Print the variable."
   ]
  },
  {
   "cell_type": "code",
   "execution_count": 20,
   "id": "c2f81285-5d59-4ce7-87e2-0bfd93950c53",
   "metadata": {},
   "outputs": [
    {
     "name": "stdin",
     "output_type": "stream",
     "text": [
      "How's the wheather today alok\n"
     ]
    },
    {
     "name": "stdout",
     "output_type": "stream",
     "text": [
      "alok\n"
     ]
    }
   ],
   "source": [
    "#input\n",
    "weather=input(\"How's the wheather today\")\n",
    "print(weather)\n"
   ]
  },
  {
   "cell_type": "code",
   "execution_count": 22,
   "id": "1acb6230-7c4e-46a9-98d5-fab1924f18d7",
   "metadata": {},
   "outputs": [
    {
     "data": {
      "text/plain": [
       "bool"
      ]
     },
     "execution_count": 22,
     "metadata": {},
     "output_type": "execute_result"
    }
   ],
   "source": [
    "is_sunny=False\n",
    "type(is_sunny)\n",
    "    "
   ]
  },
  {
   "cell_type": "code",
   "execution_count": 24,
   "id": "2217bd4f-ac62-437e-b3cf-6bcd6e6d42f0",
   "metadata": {},
   "outputs": [
    {
     "name": "stdout",
     "output_type": "stream",
     "text": [
      "False\n"
     ]
    }
   ],
   "source": [
    "if weather == 'sunny':\n",
    "    is_sunny=True\n",
    "print(is_sunny)    "
   ]
  },
  {
   "cell_type": "markdown",
   "id": "e3238a19-29a0-4035-8949-012be4393592",
   "metadata": {},
   "source": [
    "Create a variable data and assign it an integer value. Then, reassign data to a string. Print the type of data before and after the reassignment."
   ]
  },
  {
   "cell_type": "code",
   "execution_count": 96,
   "id": "df843faa-3153-497d-8a5d-be972464105b",
   "metadata": {},
   "outputs": [],
   "source": [
    "alok=123\n"
   ]
  },
  {
   "cell_type": "code",
   "execution_count": 98,
   "id": "1b0c9a70-e295-4de2-932a-8558a9bc96d6",
   "metadata": {},
   "outputs": [
    {
     "data": {
      "text/plain": [
       "'123'"
      ]
     },
     "execution_count": 98,
     "metadata": {},
     "output_type": "execute_result"
    }
   ],
   "source": [
    "str(alok)"
   ]
  },
  {
   "cell_type": "markdown",
   "id": "3c09fa4e-6e31-4c31-9781-8b90eca49d64",
   "metadata": {},
   "source": [
    "Write a program that asks the user for their name and their age. Print a message greeting them and mentioning how old they are."
   ]
  },
  {
   "cell_type": "code",
   "execution_count": 28,
   "id": "316eddab-0357-4eb8-ac6f-098d3f903c3c",
   "metadata": {},
   "outputs": [
    {
     "name": "stdin",
     "output_type": "stream",
     "text": [
      " alok\n",
      " 55\n"
     ]
    },
    {
     "name": "stdout",
     "output_type": "stream",
     "text": [
      "how old they are 55 aa \n"
     ]
    }
   ],
   "source": [
    "name=input()\n",
    "age=int(input())\n",
    "\n",
    "a=f'how old they are {age} aa '\n",
    "print(a)\n",
    "\n",
    "\n",
    "\n"
   ]
  },
  {
   "cell_type": "markdown",
   "id": "6304bb29-90a2-4954-9021-31b961f0d424",
   "metadata": {},
   "source": [
    "Swap the values of two variables x and y. If initially x = 10 and y = 5, ensure x becomes 5 and y becomes 10. Print the swapped values."
   ]
  },
  {
   "cell_type": "code",
   "execution_count": 55,
   "id": "f616a45f-ad2c-4870-a222-12c875f1adb5",
   "metadata": {},
   "outputs": [
    {
     "name": "stdout",
     "output_type": "stream",
     "text": [
      "5 10\n"
     ]
    }
   ],
   "source": [
    "x=10\n",
    "y=5\n",
    "z=0\n",
    "z=y\n",
    "y=x\n",
    "x=z\n",
    "print(x,y)"
   ]
  },
  {
   "cell_type": "code",
   "execution_count": 67,
   "id": "c45e6e4f-327d-4829-9eea-9b289e216c10",
   "metadata": {},
   "outputs": [
    {
     "name": "stdout",
     "output_type": "stream",
     "text": [
      "5 10\n"
     ]
    }
   ],
   "source": [
    "x=10\n",
    "y=5\n",
    "x=x+y\n",
    "y=x-y\n",
    "x=x-y\n",
    "print(x,y)"
   ]
  },
  {
   "cell_type": "markdown",
   "id": "03d9e8ba-a7bf-4fd1-b84d-b6a0e540afea",
   "metadata": {},
   "source": [
    "Perform integer division and find the remainder when dividing 45 by 6."
   ]
  },
  {
   "cell_type": "code",
   "execution_count": 105,
   "id": "04b66785-a897-46bb-80d2-28aaf0226c5d",
   "metadata": {},
   "outputs": [
    {
     "name": "stdout",
     "output_type": "stream",
     "text": [
      "3\n",
      "7\n"
     ]
    }
   ],
   "source": [
    "division=45//6\n",
    "remainder=45%6\n",
    "print(remainder)\n",
    "print(division)"
   ]
  },
  {
   "cell_type": "markdown",
   "id": "de5ba38e-5a39-40bd-8866-944aed112aab",
   "metadata": {},
   "source": [
    "Round the number 7.654321 to 2 decimal places."
   ]
  },
  {
   "cell_type": "code",
   "execution_count": 118,
   "id": "e450d354-af5d-45b0-9af8-6c918b05c7db",
   "metadata": {},
   "outputs": [
    {
     "data": {
      "text/plain": [
       "7.65"
      ]
     },
     "execution_count": 118,
     "metadata": {},
     "output_type": "execute_result"
    }
   ],
   "source": [
    "\n",
    "round(7.654321,2)"
   ]
  },
  {
   "cell_type": "markdown",
   "id": "aac36445-123c-45ef-92bf-ae8f3226758c",
   "metadata": {},
   "source": [
    "Convert the float 123.456 to an integer."
   ]
  },
  {
   "cell_type": "code",
   "execution_count": 30,
   "id": "d70ed337-2a64-4cdb-a314-362866165050",
   "metadata": {},
   "outputs": [
    {
     "data": {
      "text/plain": [
       "123"
      ]
     },
     "execution_count": 30,
     "metadata": {},
     "output_type": "execute_result"
    }
   ],
   "source": [
    "\n",
    "n=123.54\n",
    "int(n)"
   ]
  },
  {
   "cell_type": "code",
   "execution_count": 32,
   "id": "cf76150e-c823-4c5e-8f51-d6e8eb6a0bb7",
   "metadata": {},
   "outputs": [
    {
     "name": "stdout",
     "output_type": "stream",
     "text": [
      "123\n"
     ]
    }
   ],
   "source": [
    "x=int(123.432)\n",
    "print(x)"
   ]
  },
  {
   "cell_type": "markdown",
   "id": "4b5f3ae4-eaa6-4f3c-b30a-8ef5206601b1",
   "metadata": {},
   "source": [
    "Assign the result of 0.1 + 0.2 to a variable and print it. Discuss the observed output."
   ]
  },
  {
   "cell_type": "code",
   "execution_count": 138,
   "id": "76febd55-480e-47a2-b940-ad6e35a0d51f",
   "metadata": {},
   "outputs": [
    {
     "name": "stdout",
     "output_type": "stream",
     "text": [
      "0.30000000000000004\n"
     ]
    }
   ],
   "source": [
    "result=0.1\n",
    "result1=0.2\n",
    "print(result+result1)"
   ]
  },
  {
   "cell_type": "markdown",
   "id": "43eb8625-8dd5-476c-911c-61fd2f963303",
   "metadata": {},
   "source": [
    "Calculate the average of the numbers 23, 95, 40, and 67. Print the result."
   ]
  },
  {
   "cell_type": "code",
   "execution_count": 143,
   "id": "f01c6669-fbd6-45ea-901f-ee3fd5fbd06b",
   "metadata": {},
   "outputs": [
    {
     "name": "stdout",
     "output_type": "stream",
     "text": [
      "[67]\n"
     ]
    }
   ],
   "source": [
    "a=[23,95,40,67]\n",
    "for i in a:\n",
    "    l1=[]\n",
    "    l1.append(i)\n",
    "print(l1)    "
   ]
  },
  {
   "cell_type": "code",
   "execution_count": 145,
   "id": "735f69f3-3309-44b4-95ac-a7ba2d25dc08",
   "metadata": {},
   "outputs": [
    {
     "data": {
      "text/plain": [
       "[67]"
      ]
     },
     "execution_count": 145,
     "metadata": {},
     "output_type": "execute_result"
    }
   ],
   "source": [
    "l1"
   ]
  },
  {
   "cell_type": "markdown",
   "id": "9b0a83fd-460f-4d4d-b298-80f7052e0800",
   "metadata": {},
   "source": [
    "Find the absolute value of -20."
   ]
  },
  {
   "cell_type": "code",
   "execution_count": 35,
   "id": "3ac3c918-7f7e-478e-93ff-63e5b2b13d28",
   "metadata": {},
   "outputs": [
    {
     "data": {
      "text/plain": [
       "20"
      ]
     },
     "execution_count": 35,
     "metadata": {},
     "output_type": "execute_result"
    }
   ],
   "source": [
    "abs(-20)"
   ]
  },
  {
   "cell_type": "markdown",
   "id": "0a899be5-8772-437b-8993-c999a5fc8d0f",
   "metadata": {},
   "source": [
    "Calculate 2 raised to the power of 5."
   ]
  },
  {
   "cell_type": "code",
   "execution_count": 44,
   "id": "0f62b8fc-ba90-43fd-b50c-b36a9a218886",
   "metadata": {},
   "outputs": [
    {
     "data": {
      "text/plain": [
       "25"
      ]
     },
     "execution_count": 44,
     "metadata": {},
     "output_type": "execute_result"
    }
   ],
   "source": [
    "pow(5,2)"
   ]
  },
  {
   "cell_type": "markdown",
   "id": "3b80521c-ae83-448d-8bd7-12ce10e05a6c",
   "metadata": {},
   "source": [
    "Explain why directly comparing two floats for equality might not always work as expected. Provide an example."
   ]
  },
  {
   "cell_type": "code",
   "execution_count": 77,
   "id": "ce31d06a-872d-4476-9ce9-0470afb5adbb",
   "metadata": {},
   "outputs": [
    {
     "data": {
      "text/plain": [
       "False"
      ]
     },
     "execution_count": 77,
     "metadata": {},
     "output_type": "execute_result"
    }
   ],
   "source": [
    "a=2.51\n",
    "b=2.50\n",
    "a==b"
   ]
  },
  {
   "cell_type": "markdown",
   "id": "9c7d7a74-4f17-4df3-91da-5fc368b16073",
   "metadata": {},
   "source": [
    "Write a number representing one billion in Python using scientific notation."
   ]
  },
  {
   "cell_type": "code",
   "execution_count": 81,
   "id": "48e5f508-426d-49d1-b9a0-dc1cf8fcecec",
   "metadata": {},
   "outputs": [
    {
     "data": {
      "text/plain": [
       "1000000"
      ]
     },
     "execution_count": 81,
     "metadata": {},
     "output_type": "execute_result"
    }
   ],
   "source": [
    "10**6"
   ]
  },
  {
   "cell_type": "markdown",
   "id": "931c1380-d159-4a28-a338-926b2a6dbfab",
   "metadata": {},
   "source": [
    "Increment the variable counter from 0 to 10 using a loop, printing its value at each step."
   ]
  },
  {
   "cell_type": "code",
   "execution_count": 53,
   "id": "324e6d8e-a938-4b60-b2c2-ca87bd71722a",
   "metadata": {},
   "outputs": [
    {
     "name": "stdout",
     "output_type": "stream",
     "text": [
      "0\n",
      "1\n",
      "2\n",
      "3\n",
      "4\n",
      "5\n",
      "6\n",
      "7\n",
      "8\n",
      "9\n"
     ]
    }
   ],
   "source": [
    "for i in range(0,10):\n",
    "    print(i)"
   ]
  },
  {
   "cell_type": "markdown",
   "id": "3fd2ebe6-7b0c-454d-9e43-3c152be18f15",
   "metadata": {},
   "source": [
    "Calculate the average of the numbers 23, 95, 40, and 67. Print the result."
   ]
  },
  {
   "cell_type": "code",
   "execution_count": 69,
   "id": "5942759c-7b3c-4a56-aa60-8cb85e2c1623",
   "metadata": {},
   "outputs": [
    {
     "name": "stdout",
     "output_type": "stream",
     "text": [
      "225\n",
      "56.25\n"
     ]
    },
    {
     "ename": "TypeError",
     "evalue": "'int' object is not callable",
     "output_type": "error",
     "traceback": [
      "\u001b[1;31m---------------------------------------------------------------------------\u001b[0m",
      "\u001b[1;31mTypeError\u001b[0m                                 Traceback (most recent call last)",
      "Cell \u001b[1;32mIn[69], line 10\u001b[0m\n\u001b[0;32m      8\u001b[0m avg\u001b[38;5;241m=\u001b[39msum1\u001b[38;5;241m/\u001b[39m\u001b[38;5;28mlen\u001b[39m(l)    \n\u001b[0;32m      9\u001b[0m \u001b[38;5;28mprint\u001b[39m(avg) \n\u001b[1;32m---> 10\u001b[0m \u001b[38;5;28msum\u001b[39m(l)\n",
      "\u001b[1;31mTypeError\u001b[0m: 'int' object is not callable"
     ]
    }
   ],
   "source": [
    "avg=0\n",
    "l=[23,95,40,67]\n",
    "l1=[]\n",
    "sum1=0\n",
    "for i in l:\n",
    "    sum1+=i\n",
    "print(sum1)    \n",
    "avg=sum1/len(l)    \n",
    "print(avg) \n"
   ]
  },
  {
   "cell_type": "code",
   "execution_count": 73,
   "id": "1797305d-cc6e-4f71-ba8b-df5f6df3ef22",
   "metadata": {},
   "outputs": [
    {
     "ename": "TypeError",
     "evalue": "'int' object is not callable",
     "output_type": "error",
     "traceback": [
      "\u001b[1;31m---------------------------------------------------------------------------\u001b[0m",
      "\u001b[1;31mTypeError\u001b[0m                                 Traceback (most recent call last)",
      "Cell \u001b[1;32mIn[73], line 1\u001b[0m\n\u001b[1;32m----> 1\u001b[0m \u001b[38;5;28msum\u001b[39m(l)\n",
      "\u001b[1;31mTypeError\u001b[0m: 'int' object is not callable"
     ]
    }
   ],
   "source": []
  },
  {
   "cell_type": "markdown",
   "id": "4c9b1760-6a23-4afd-9e9c-786386fb96a8",
   "metadata": {},
   "source": [
    "Assign the result of 0.1 + 0.2 to a variable and print it. Discuss the observed output."
   ]
  },
  {
   "cell_type": "code",
   "execution_count": 57,
   "id": "ba7f1169-8874-498e-acd2-b120cea8d667",
   "metadata": {},
   "outputs": [
    {
     "name": "stdout",
     "output_type": "stream",
     "text": [
      "0.30000000000000004\n"
     ]
    }
   ],
   "source": [
    "a=0.1\n",
    "b=0.2\n",
    "print(a+b)"
   ]
  },
  {
   "cell_type": "code",
   "execution_count": null,
   "id": "0ed0a88b-5ad7-43cc-b100-be254dc62a30",
   "metadata": {},
   "outputs": [],
   "source": []
  }
 ],
 "metadata": {
  "kernelspec": {
   "display_name": "Python 3 (ipykernel)",
   "language": "python",
   "name": "python3"
  },
  "language_info": {
   "codemirror_mode": {
    "name": "ipython",
    "version": 3
   },
   "file_extension": ".py",
   "mimetype": "text/x-python",
   "name": "python",
   "nbconvert_exporter": "python",
   "pygments_lexer": "ipython3",
   "version": "3.12.4"
  }
 },
 "nbformat": 4,
 "nbformat_minor": 5
}
